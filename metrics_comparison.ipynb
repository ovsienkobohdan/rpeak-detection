{
  "cells": [
    {
      "cell_type": "markdown",
      "metadata": {
        "id": "view-in-github",
        "colab_type": "text"
      },
      "source": [
        "<a href=\"https://colab.research.google.com/github/ovsienkobohdan/rpeak-detection/blob/master/metrics_comparison.ipynb\" target=\"_parent\"><img src=\"https://colab.research.google.com/assets/colab-badge.svg\" alt=\"Open In Colab\"/></a>"
      ]
    },
    {
      "cell_type": "markdown",
      "metadata": {
        "id": "pBTFNZ6R2ZJj"
      },
      "source": [
        "[![Open In Colab](https://colab.research.google.com/assets/colab-badge.svg)](https://colab.research.google.com/github/ovsienkobohdan/rpeak-detection/blob/master/metrics_comparison.ipynb)"
      ]
    },
    {
      "cell_type": "markdown",
      "metadata": {
        "id": "DJ3xByk4D_Fn"
      },
      "source": [
        "# Overview\n",
        "- [Download necessary data](https://colab.research.google.com/github/ovsienkobohdan/rpeak-detection/blob/master/metrics_comparison.ipynb#scrollTo=2hVUyMMGEOrE&line=1&uniqifier=1)\n"
      ]
    },
    {
      "cell_type": "markdown",
      "metadata": {
        "id": "2hVUyMMGEOrE"
      },
      "source": [
        "# Setup"
      ]
    },
    {
      "cell_type": "markdown",
      "metadata": {
        "id": "WY22PJBNEn3s"
      },
      "source": [
        "## Download necessary data (for GOOGLE COLAB)"
      ]
    },
    {
      "cell_type": "code",
      "execution_count": 1,
      "metadata": {
        "colab": {
          "base_uri": "https://localhost:8080/"
        },
        "id": "mn8t1gV93Nyn",
        "outputId": "a89b32c8-1524-4de4-9602-857673ec0a55"
      },
      "outputs": [
        {
          "output_type": "stream",
          "name": "stdout",
          "text": [
            "Cloning into 'rpeak-detection'...\n",
            "remote: Enumerating objects: 128, done.\u001b[K\n",
            "remote: Counting objects: 100% (128/128), done.\u001b[K\n",
            "remote: Compressing objects: 100% (103/103), done.\u001b[K\n",
            "remote: Total 128 (delta 45), reused 96 (delta 24), pack-reused 0\u001b[K\n",
            "Receiving objects: 100% (128/128), 36.36 MiB | 32.66 MiB/s, done.\n",
            "Resolving deltas: 100% (45/45), done.\n",
            "/content/rpeak-detection\n",
            "Downloading...\n",
            "From: https://drive.google.com/uc?id=1TzsrrdV0T1nVNmSEzfPJLd4HzdW_8P2N\n",
            "To: /content/rpeak-detection/model.pt\n",
            "100% 205M/205M [00:01<00:00, 115MB/s]\n",
            "Looking in indexes: https://pypi.org/simple, https://us-python.pkg.dev/colab-wheels/public/simple/\n",
            "Collecting biosppy\n",
            "  Downloading biosppy-1.0.0-py2.py3-none-any.whl (106 kB)\n",
            "\u001b[K     |████████████████████████████████| 106 kB 5.2 MB/s \n",
            "\u001b[?25hRequirement already satisfied: scikit-learn in /usr/local/lib/python3.7/dist-packages (from biosppy) (1.0.2)\n",
            "Collecting shortuuid\n",
            "  Downloading shortuuid-1.0.9-py3-none-any.whl (9.4 kB)\n",
            "Requirement already satisfied: six in /usr/local/lib/python3.7/dist-packages (from biosppy) (1.15.0)\n",
            "Requirement already satisfied: h5py in /usr/local/lib/python3.7/dist-packages (from biosppy) (3.1.0)\n",
            "Requirement already satisfied: scipy in /usr/local/lib/python3.7/dist-packages (from biosppy) (1.7.3)\n",
            "Requirement already satisfied: numpy in /usr/local/lib/python3.7/dist-packages (from biosppy) (1.21.6)\n",
            "Requirement already satisfied: opencv-python in /usr/local/lib/python3.7/dist-packages (from biosppy) (4.6.0.66)\n",
            "Collecting bidict\n",
            "  Downloading bidict-0.22.0-py3-none-any.whl (36 kB)\n",
            "Requirement already satisfied: matplotlib in /usr/local/lib/python3.7/dist-packages (from biosppy) (3.2.2)\n",
            "Requirement already satisfied: joblib in /usr/local/lib/python3.7/dist-packages (from biosppy) (1.2.0)\n",
            "Requirement already satisfied: cached-property in /usr/local/lib/python3.7/dist-packages (from h5py->biosppy) (1.5.2)\n",
            "Requirement already satisfied: python-dateutil>=2.1 in /usr/local/lib/python3.7/dist-packages (from matplotlib->biosppy) (2.8.2)\n",
            "Requirement already satisfied: cycler>=0.10 in /usr/local/lib/python3.7/dist-packages (from matplotlib->biosppy) (0.11.0)\n",
            "Requirement already satisfied: kiwisolver>=1.0.1 in /usr/local/lib/python3.7/dist-packages (from matplotlib->biosppy) (1.4.4)\n",
            "Requirement already satisfied: pyparsing!=2.0.4,!=2.1.2,!=2.1.6,>=2.0.1 in /usr/local/lib/python3.7/dist-packages (from matplotlib->biosppy) (3.0.9)\n",
            "Requirement already satisfied: typing-extensions in /usr/local/lib/python3.7/dist-packages (from kiwisolver>=1.0.1->matplotlib->biosppy) (4.1.1)\n",
            "Requirement already satisfied: threadpoolctl>=2.0.0 in /usr/local/lib/python3.7/dist-packages (from scikit-learn->biosppy) (3.1.0)\n",
            "Installing collected packages: shortuuid, bidict, biosppy\n",
            "Successfully installed bidict-0.22.0 biosppy-1.0.0 shortuuid-1.0.9\n",
            "Looking in indexes: https://pypi.org/simple, https://us-python.pkg.dev/colab-wheels/public/simple/\n",
            "Collecting wfdb\n",
            "  Downloading wfdb-4.0.0-py3-none-any.whl (161 kB)\n",
            "\u001b[K     |████████████████████████████████| 161 kB 5.1 MB/s \n",
            "\u001b[?25hRequirement already satisfied: numpy<2.0.0,>=1.10.1 in /usr/local/lib/python3.7/dist-packages (from wfdb) (1.21.6)\n",
            "Requirement already satisfied: scipy<2.0.0,>=1.0.0 in /usr/local/lib/python3.7/dist-packages (from wfdb) (1.7.3)\n",
            "Requirement already satisfied: SoundFile<0.12.0,>=0.10.0 in /usr/local/lib/python3.7/dist-packages (from wfdb) (0.11.0)\n",
            "Requirement already satisfied: pandas<2.0.0,>=1.0.0 in /usr/local/lib/python3.7/dist-packages (from wfdb) (1.3.5)\n",
            "Requirement already satisfied: requests<3.0.0,>=2.8.1 in /usr/local/lib/python3.7/dist-packages (from wfdb) (2.23.0)\n",
            "Requirement already satisfied: matplotlib<4.0.0,>=3.2.2 in /usr/local/lib/python3.7/dist-packages (from wfdb) (3.2.2)\n",
            "Requirement already satisfied: pyparsing!=2.0.4,!=2.1.2,!=2.1.6,>=2.0.1 in /usr/local/lib/python3.7/dist-packages (from matplotlib<4.0.0,>=3.2.2->wfdb) (3.0.9)\n",
            "Requirement already satisfied: python-dateutil>=2.1 in /usr/local/lib/python3.7/dist-packages (from matplotlib<4.0.0,>=3.2.2->wfdb) (2.8.2)\n",
            "Requirement already satisfied: kiwisolver>=1.0.1 in /usr/local/lib/python3.7/dist-packages (from matplotlib<4.0.0,>=3.2.2->wfdb) (1.4.4)\n",
            "Requirement already satisfied: cycler>=0.10 in /usr/local/lib/python3.7/dist-packages (from matplotlib<4.0.0,>=3.2.2->wfdb) (0.11.0)\n",
            "Requirement already satisfied: typing-extensions in /usr/local/lib/python3.7/dist-packages (from kiwisolver>=1.0.1->matplotlib<4.0.0,>=3.2.2->wfdb) (4.1.1)\n",
            "Requirement already satisfied: pytz>=2017.3 in /usr/local/lib/python3.7/dist-packages (from pandas<2.0.0,>=1.0.0->wfdb) (2022.4)\n",
            "Requirement already satisfied: six>=1.5 in /usr/local/lib/python3.7/dist-packages (from python-dateutil>=2.1->matplotlib<4.0.0,>=3.2.2->wfdb) (1.15.0)\n",
            "Requirement already satisfied: chardet<4,>=3.0.2 in /usr/local/lib/python3.7/dist-packages (from requests<3.0.0,>=2.8.1->wfdb) (3.0.4)\n",
            "Requirement already satisfied: urllib3!=1.25.0,!=1.25.1,<1.26,>=1.21.1 in /usr/local/lib/python3.7/dist-packages (from requests<3.0.0,>=2.8.1->wfdb) (1.24.3)\n",
            "Requirement already satisfied: idna<3,>=2.5 in /usr/local/lib/python3.7/dist-packages (from requests<3.0.0,>=2.8.1->wfdb) (2.10)\n",
            "Requirement already satisfied: certifi>=2017.4.17 in /usr/local/lib/python3.7/dist-packages (from requests<3.0.0,>=2.8.1->wfdb) (2022.9.24)\n",
            "Requirement already satisfied: cffi>=1.0 in /usr/local/lib/python3.7/dist-packages (from SoundFile<0.12.0,>=0.10.0->wfdb) (1.15.1)\n",
            "Requirement already satisfied: pycparser in /usr/local/lib/python3.7/dist-packages (from cffi>=1.0->SoundFile<0.12.0,>=0.10.0->wfdb) (2.21)\n",
            "Installing collected packages: wfdb\n",
            "Successfully installed wfdb-4.0.0\n"
          ]
        }
      ],
      "source": [
        "# Downloading all necessary files\n",
        "!git clone https://github.com/ovsienkobohdan/rpeak-detection\n",
        "%cd rpeak-detection/\n",
        "!mkdir model\n",
        "!gdown 1TzsrrdV0T1nVNmSEzfPJLd4HzdW_8P2N\n",
        "!mv model.pt model/model.pt\n",
        "\n",
        "# Installing additional lybraries\n",
        "!pip install biosppy\n",
        "!pip install wfdb"
      ]
    },
    {
      "cell_type": "markdown",
      "metadata": {
        "id": "83is1-DxEpuw"
      },
      "source": [
        "## Imports and PATH variables"
      ]
    },
    {
      "cell_type": "code",
      "execution_count": 2,
      "metadata": {
        "id": "vw8MQPeU2ZJu"
      },
      "outputs": [],
      "source": [
        "import torch\n",
        "import time\n",
        "import scipy\n",
        "import numpy as np\n",
        "from tqdm.notebook import tqdm, trange\n",
        "from torch.utils.data import TensorDataset, DataLoader\n",
        "from RPNet.py_ecg.ecgdetectors import Detectors\n",
        "from RPNet.utils import score, load_model_CNN\n",
        "import matplotlib.pyplot as plt\n",
        "from matplotlib.gridspec import GridSpec\n",
        "import pandas as pd\n",
        "\n",
        "FS=200\n",
        "SAVED_MODEL_PATH = \"model/model.pt\"\n",
        "ECG_DATA_PATH = \"data/ecg.npy\"\n",
        "PEAKS_DATA_PATH = \"data/mawi_peaks.csv\"\n",
        "ECG_TENSOR_DATA_PATH = \"data/tensor_ecg.pt\""
      ]
    },
    {
      "cell_type": "markdown",
      "metadata": {
        "id": "5ehr6TVH7wqa"
      },
      "source": [
        "**To run test on GPU go to Runtime -> Change runtime type -> Choose GPU from Hardware Accelerator dropdown menu**"
      ]
    },
    {
      "cell_type": "code",
      "execution_count": 3,
      "metadata": {
        "colab": {
          "base_uri": "https://localhost:8080/"
        },
        "id": "U9Hs4O7a2ZJy",
        "outputId": "d0db6e37-b648-4c20-8d61-d29382c466e9"
      },
      "outputs": [
        {
          "output_type": "stream",
          "name": "stdout",
          "text": [
            "You are using GPU\n"
          ]
        }
      ],
      "source": [
        "if torch.cuda.is_available():  \n",
        "  print(\"You are using GPU\")\n",
        "  dev = \"cuda:0\" \n",
        "else:  \n",
        "  dev = \"cpu\"\n",
        "  print(\"You are using CPU\")"
      ]
    },
    {
      "cell_type": "markdown",
      "metadata": {
        "id": "KpiaoCDdFKFX"
      },
      "source": [
        "# Data overview\n",
        "\n",
        "\n",
        "---\n",
        "\n",
        "\n",
        "data folder contains 3 files:\n",
        "*   ecg.npy - consist of 346 ECG signals recording 1 min duration\n",
        "*   mawi_peaks.csv - consist of annotated peaks for data stored in ecg.npy\n",
        "*   tensor_ecg.pt - ecg.npy converted to tensor and preprocessed to work with RPNet\n"
      ]
    },
    {
      "cell_type": "code",
      "execution_count": 4,
      "metadata": {
        "id": "xLd3CRWdFNIJ"
      },
      "outputs": [],
      "source": [
        "ecg_signals = np.load(ECG_DATA_PATH, allow_pickle=True)\n",
        "peaks_data = pd.read_csv(PEAKS_DATA_PATH)\n",
        "peaks = [list(map(int, peaks_data.Peaks[ind][1:-1].split(','))) for ind in range(len(ecg_signals))]"
      ]
    },
    {
      "cell_type": "code",
      "execution_count": 5,
      "metadata": {
        "colab": {
          "base_uri": "https://localhost:8080/",
          "height": 0
        },
        "id": "Eac7cVWHHb7U",
        "outputId": "042df835-beff-4a09-ef77-db47ddbde2c0"
      },
      "outputs": [
        {
          "output_type": "display_data",
          "data": {
            "text/plain": [
              "<Figure size 1296x432 with 9 Axes>"
            ],
            "image/png": "[encoded data removed]"
          },
          "metadata": {
            "needs_background": "light"
          }
        }
      ],
      "source": [
        "plot_ecg_ind = np.random.randint(0, len(ecg_signals), 9)\n",
        "fig, axs = plt.subplots(3, 3, figsize=(18, 6), constrained_layout=False)\n",
        "for ax, plot_ind in zip(axs.flat, plot_ecg_ind):\n",
        "  ax.set_title(f'Recording index: {plot_ind}')\n",
        "  ax.axis(\"off\")\n",
        "  ax.plot(ecg_signals[plot_ind])"
      ]
    },
    {
      "cell_type": "code",
      "execution_count": 6,
      "metadata": {
        "colab": {
          "base_uri": "https://localhost:8080/",
          "height": 0
        },
        "id": "2araiODcQdXh",
        "outputId": "d40a6b0e-ddd3-48d5-fea6-3f9015ae7253"
      },
      "outputs": [
        {
          "output_type": "display_data",
          "data": {
            "text/plain": [
              "<Figure size 1152x432 with 2 Axes>"
            ],
            "image/png": "[encoded data removed]"
          },
          "metadata": {}
        }
      ],
      "source": [
        "fig = plt.figure(constrained_layout=True, figsize=(16,6))\n",
        "rec_ind = plot_ecg_ind[0]\n",
        "gs = GridSpec(1, 3, figure=fig)\n",
        "ax1 = fig.add_subplot(gs[0, :-1])\n",
        "ax2 = fig.add_subplot(gs[0, -1:])\n",
        "ax1.plot(ecg_signals[rec_ind], label=\"Signal\")\n",
        "ax1.set_xticks([])\n",
        "ax1.set_yticks([])\n",
        "ax1.set_title(f\"Recording index: {rec_ind}\")\n",
        "ax1.scatter(peaks[rec_ind], [ecg_signals[rec_ind][i] for i in peaks[rec_ind]], \n",
        "            color=\"red\", label=\"R peak\")\n",
        "ax1.legend()\n",
        "\n",
        "ax2.plot(ecg_signals[rec_ind][2000: 4000], label=\"Signal\")\n",
        "ax2.set_xticks([])\n",
        "ax2.set_yticks([])\n",
        "ax2.set_title(\"Recording index: 1 [10 sec : 20 sec]\")\n",
        "ax2.scatter([i-2000 for i in peaks[rec_ind] if i > 2000 and i < 4000], \n",
        "            [ecg_signals[rec_ind][i] for i in [i for i in peaks[rec_ind] if \n",
        "                                               i > 2000 and i < 4000]],\n",
        "            color=\"red\", label=\"R peak\")\n",
        "ax2.legend()\n",
        "plt.show()"
      ]
    },
    {
      "cell_type": "markdown",
      "metadata": {
        "id": "xPF9W4FFFA7E"
      },
      "source": [
        "# Calcualte scores"
      ]
    },
    {
      "cell_type": "markdown",
      "metadata": {
        "id": "qVb1T6tqFD8Z"
      },
      "source": [
        "## Speed of annotating"
      ]
    },
    {
      "cell_type": "code",
      "execution_count": 7,
      "metadata": {
        "id": "zRSbGOVm2ZJz",
        "outputId": "36856ea1-51f3-48a5-fca3-47055953413c",
        "colab": {
          "base_uri": "https://localhost:8080/"
        }
      },
      "outputs": [
        {
          "output_type": "stream",
          "name": "stderr",
          "text": [
            "100%|██████████| 28/28 [02:54<00:00,  6.23s/it]\n"
          ]
        }
      ],
      "source": [
        "# RPNET\n",
        "BATCH_SIZE = 64\n",
        "time_rpnet = []\n",
        "samples_rpnet = []\n",
        "for i in trange(28):\n",
        "    patient_ecg_t = torch.load(ECG_TENSOR_DATA_PATH)[:64 + 64*i]\n",
        "    patient_ecg_t = patient_ecg_t.view((patient_ecg_t.shape[0],1,patient_ecg_t.shape[1]))\n",
        "    patient_ecg_tl = TensorDataset(patient_ecg_t)\n",
        "    testloader = DataLoader(patient_ecg_tl, batch_size=BATCH_SIZE)\n",
        "    start = time.time()\n",
        "    y_pred = load_model_CNN(SAVED_MODEL_PATH,testloader,dev, logs=False)\n",
        "    y_pred_1 = [] \n",
        "    for batch in range(len(y_pred)):\n",
        "        for record in range(len(y_pred[batch])):\n",
        "            y_pred_1.append(y_pred[batch][record].cpu().numpy())\n",
        "    y_pred_array = np.asarray(y_pred_1) \n",
        "    y_pred_array_1 = np.asarray(y_pred_1)\n",
        "    resampled_dt = []\n",
        "    for record in range(y_pred_array.shape[0]):\n",
        "        resampled_dt.append(scipy.signal.resample(y_pred_array_1[record],2000))\n",
        "    y_pred_array = np.asarray(resampled_dt) \n",
        "    peak_locs = []\n",
        "    for i in range(y_pred_array.shape[0]):\n",
        "        peak_locs.append(scipy.signal.find_peaks(-y_pred_array[i,:],distance = 45,height = -0.2,prominence = 0.035)[0])\n",
        "    time_result = int(time.time() - start)\n",
        "    num_examples = len(patient_ecg_t)\n",
        "    time_rpnet.append(time_result)\n",
        "    samples_rpnet.append(num_examples)"
      ]
    },
    {
      "cell_type": "code",
      "source": [
        "from time import sleep\n",
        "from tqdm.notebook import tqdm, trange\n",
        "for i in trange(3, position=0):\n",
        "    for j in trange(5, position=1, leave=False):\n",
        "        sleep(1)\n",
        "        # print(i,\" : \", j)\n",
        "\n",
        "print(\"Done!\")"
      ],
      "metadata": {
        "id": "hGHtgzCHyRtK",
        "outputId": "1b502053-cd38-4160-900f-3f8a79ee2fb4",
        "colab": {
          "base_uri": "https://localhost:8080/",
          "height": 300,
          "referenced_widgets": [
            "84d42ac274e84a4bb5ecba9219d26582",
            "f4bc828e02fe48b68ddd7f3c593f5ce3",
            "c75f4855b89a42969983825ed18b424a",
            "f57d992909364f329829b92b20d5c9f1",
            "d895478edaf048e29b809d193865d156",
            "1d3e8cf05b834c33864a9cda3cd88975",
            "607b559394b64423b0a10fd64b4e6ebf",
            "824dfc2ba496499eb22c4183870a64c1",
            "baae5ad9a66f4e8fa16706737ce442b1",
            "f59b34e495fa41bb8a9eb4306b6c251b",
            "552370cffd8d4e4dbc710f276f1b7ea0",
            "d0d937a55c75499ba6bd966832e2ffcd",
            "62c44f32f607479dabc89f2524c1ab5c",
            "c5ce2e0f77674e97b3848e10a37b299d",
            "22275c773b1f4ce7a55e9632c24f216e",
            "2e110af85d1c477cbd794b04c1a8f06f",
            "5d9a8650b274461b8210ce803816a5ad",
            "513d8915336e4cbc8ee16a1acc218224",
            "4305ff30a3a5427f932eb79d57c6829c",
            "770b2baa70c3446eb346a109369eccae",
            "ed5e49895a9b41448e5a08c7b529a1b8",
            "d520c5aaab394d7ea2c20161d4c340dd",
            "19266482d9bb4267a32e137da19a9b4c",
            "d8dda2d48ce04d3eb15304fe69a7b17d",
            "c758dd9af5b1478ab2b7f81fd6525d54",
            "369292bdbfdf40709ed6f8f034b87f33",
            "584fca3f67f8498d94de4e9229c1ad92",
            "0776e88cdbe34449a5909cae6f47ed56",
            "37d5fdcdcb854b6690ffa9b6388176f4",
            "2d18bed7327b488eb56a5a4d97123f3a",
            "674c253e9814447b9a84b0159434f3d0",
            "c8939833be474e7c8c019592e77c0cbb",
            "9e954d9d4df6490989a76ac204d5198e",
            "31e0591ac6c7434fa9f40427d854c845",
            "8663ccbee3114e14b032a24b2ce40916",
            "365c915d9980434186accca47ff5b76b",
            "48655738ea344cd4aa65580e2a6e026b",
            "d4db52b4898548159eaafce1999b468a",
            "0c4b79de1d75422c8b042ae05eeb5a70",
            "0ba3adecee984578bdba90d6bb6e924c",
            "d8d60b9877744910af25d0da1c41a59d",
            "35dbe7d482de4b9dbe232d346dd2a527",
            "a08b1142c225473d92175403e4e8a43a",
            "e2ce1826cdd94c0b9b335fd04325489a"
          ]
        }
      },
      "execution_count": 32,
      "outputs": [
        {
          "output_type": "display_data",
          "data": {
            "text/plain": [
              "  0%|          | 0/3 [00:00<?, ?it/s]"
            ],
            "application/vnd.jupyter.widget-view+json": {
              "version_major": 2,
              "version_minor": 0,
              "model_id": "84d42ac274e84a4bb5ecba9219d26582"
            }
          },
          "metadata": {}
        },
        {
          "output_type": "display_data",
          "data": {
            "text/plain": [
              "  0%|          | 0/5 [00:00<?, ?it/s]"
            ],
            "application/vnd.jupyter.widget-view+json": {
              "version_major": 2,
              "version_minor": 0,
              "model_id": "d0d937a55c75499ba6bd966832e2ffcd"
            }
          },
          "metadata": {}
        },
        {
          "output_type": "display_data",
          "data": {
            "text/plain": [
              "  0%|          | 0/5 [00:00<?, ?it/s]"
            ],
            "application/vnd.jupyter.widget-view+json": {
              "version_major": 2,
              "version_minor": 0,
              "model_id": "19266482d9bb4267a32e137da19a9b4c"
            }
          },
          "metadata": {}
        },
        {
          "output_type": "display_data",
          "data": {
            "text/plain": [
              "  0%|          | 0/5 [00:00<?, ?it/s]"
            ],
            "application/vnd.jupyter.widget-view+json": {
              "version_major": 2,
              "version_minor": 0,
              "model_id": "31e0591ac6c7434fa9f40427d854c845"
            }
          },
          "metadata": {}
        },
        {
          "output_type": "error",
          "ename": "KeyboardInterrupt",
          "evalue": "ignored",
          "traceback": [
            "\u001b[0;31m---------------------------------------------------------------------------\u001b[0m",
            "\u001b[0;31mKeyboardInterrupt\u001b[0m                         Traceback (most recent call last)",
            "\u001b[0;32m<ipython-input-32-56d88dd4f849>\u001b[0m in \u001b[0;36m<module>\u001b[0;34m\u001b[0m\n\u001b[1;32m      3\u001b[0m \u001b[0;32mfor\u001b[0m \u001b[0mi\u001b[0m \u001b[0;32min\u001b[0m \u001b[0mtrange\u001b[0m\u001b[0;34m(\u001b[0m\u001b[0;36m3\u001b[0m\u001b[0;34m,\u001b[0m \u001b[0mposition\u001b[0m\u001b[0;34m=\u001b[0m\u001b[0;36m0\u001b[0m\u001b[0;34m)\u001b[0m\u001b[0;34m:\u001b[0m\u001b[0;34m\u001b[0m\u001b[0;34m\u001b[0m\u001b[0m\n\u001b[1;32m      4\u001b[0m     \u001b[0;32mfor\u001b[0m \u001b[0mj\u001b[0m \u001b[0;32min\u001b[0m \u001b[0mtrange\u001b[0m\u001b[0;34m(\u001b[0m\u001b[0;36m5\u001b[0m\u001b[0;34m,\u001b[0m \u001b[0mposition\u001b[0m\u001b[0;34m=\u001b[0m\u001b[0;36m1\u001b[0m\u001b[0;34m,\u001b[0m \u001b[0mleave\u001b[0m\u001b[0;34m=\u001b[0m\u001b[0;32mFalse\u001b[0m\u001b[0;34m)\u001b[0m\u001b[0;34m:\u001b[0m\u001b[0;34m\u001b[0m\u001b[0;34m\u001b[0m\u001b[0m\n\u001b[0;32m----> 5\u001b[0;31m         \u001b[0msleep\u001b[0m\u001b[0;34m(\u001b[0m\u001b[0;36m1\u001b[0m\u001b[0;34m)\u001b[0m\u001b[0;34m\u001b[0m\u001b[0;34m\u001b[0m\u001b[0m\n\u001b[0m\u001b[1;32m      6\u001b[0m         \u001b[0;31m# print(i,\" : \", j)\u001b[0m\u001b[0;34m\u001b[0m\u001b[0;34m\u001b[0m\u001b[0;34m\u001b[0m\u001b[0m\n\u001b[1;32m      7\u001b[0m \u001b[0;34m\u001b[0m\u001b[0m\n",
            "\u001b[0;31mKeyboardInterrupt\u001b[0m: "
          ]
        }
      ]
    },
    {
      "cell_type": "code",
      "source": [
        "from time import sleep\n",
        "for i in trange(4, desc='1st loop', position=0, leave=True):\n",
        "  sleep(0.1)\n",
        "  for k in trange(50, desc='2rd loop', position=1, leave=True):\n",
        "    sleep(0.01)"
      ],
      "metadata": {
        "id": "vcaU3EbJwqSL",
        "outputId": "7be46b38-3406-4a5a-abce-a78f0f742bc0",
        "colab": {
          "base_uri": "https://localhost:8080/"
        }
      },
      "execution_count": 21,
      "outputs": [
        {
          "output_type": "stream",
          "name": "stderr",
          "text": [
            "1st loop:   0%|          | 0/4 [00:00<?, ?it/s]\n",
            "2rd loop:   0%|          | 0/50 [00:00<?, ?it/s]\u001b[A\n",
            "2rd loop:  20%|██        | 10/50 [00:00<00:00, 98.71it/s]\u001b[A\n",
            "2rd loop:  40%|████      | 20/50 [00:00<00:00, 96.78it/s]\u001b[A\n",
            "2rd loop:  60%|██████    | 30/50 [00:00<00:00, 96.16it/s]\u001b[A\n",
            "2rd loop:  80%|████████  | 40/50 [00:00<00:00, 95.98it/s]\u001b[A\n",
            "2rd loop: 100%|██████████| 50/50 [00:00<00:00, 95.43it/s]\n",
            "1st loop:  25%|██▌       | 1/4 [00:00<00:01,  1.58it/s]\n",
            "2rd loop:   0%|          | 0/50 [00:00<?, ?it/s]\u001b[A\n",
            "2rd loop:  20%|██        | 10/50 [00:00<00:00, 98.81it/s]\u001b[A\n",
            "2rd loop:  40%|████      | 20/50 [00:00<00:00, 96.96it/s]\u001b[A\n",
            "2rd loop:  60%|██████    | 30/50 [00:00<00:00, 96.26it/s]\u001b[A\n",
            "2rd loop:  80%|████████  | 40/50 [00:00<00:00, 95.98it/s]\u001b[A\n",
            "2rd loop: 100%|██████████| 50/50 [00:00<00:00, 95.29it/s]\n",
            "1st loop:  50%|█████     | 2/4 [00:01<00:01,  1.58it/s]\n",
            "2rd loop:   0%|          | 0/50 [00:00<?, ?it/s]\u001b[A\n",
            "2rd loop:  20%|██        | 10/50 [00:00<00:00, 99.16it/s]\u001b[A\n",
            "2rd loop:  40%|████      | 20/50 [00:00<00:00, 96.65it/s]\u001b[A\n",
            "2rd loop:  60%|██████    | 30/50 [00:00<00:00, 95.88it/s]\u001b[A\n",
            "2rd loop:  80%|████████  | 40/50 [00:00<00:00, 95.90it/s]\u001b[A\n",
            "2rd loop: 100%|██████████| 50/50 [00:00<00:00, 95.19it/s]\n",
            "1st loop:  75%|███████▌  | 3/4 [00:01<00:00,  1.58it/s]\n",
            "2rd loop:   0%|          | 0/50 [00:00<?, ?it/s]\u001b[A\n",
            "2rd loop:  20%|██        | 10/50 [00:00<00:00, 99.07it/s]\u001b[A\n",
            "2rd loop:  40%|████      | 20/50 [00:00<00:00, 95.86it/s]\u001b[A\n",
            "2rd loop:  60%|██████    | 30/50 [00:00<00:00, 95.80it/s]\u001b[A\n",
            "2rd loop:  80%|████████  | 40/50 [00:00<00:00, 95.63it/s]\u001b[A\n",
            "2rd loop: 100%|██████████| 50/50 [00:00<00:00, 95.29it/s]\n",
            "1st loop: 100%|██████████| 4/4 [00:02<00:00,  1.58it/s]\n"
          ]
        }
      ]
    },
    {
      "cell_type": "code",
      "execution_count": 8,
      "metadata": {
        "id": "FEmExPtS2ZJ5",
        "outputId": "dedb9cde-0a0a-4bc7-c8dc-84659f0ae9d0",
        "colab": {
          "base_uri": "https://localhost:8080/",
          "height": 1000
        }
      },
      "outputs": [
        {
          "output_type": "stream",
          "name": "stderr",
          "text": [
            "Running tests on 6 algorithms:   0%|          | 0/6 [00:00<?, ?it/s]\n",
            "Test on increasing length of signal:   0%|          | 0/21 [00:00<?, ?it/s]\u001b[A\n",
            "Test on increasing length of signal:   5%|▍         | 1/21 [00:00<00:05,  3.89it/s]\u001b[A\n",
            "Test on increasing length of signal:  10%|▉         | 2/21 [00:00<00:07,  2.43it/s]\u001b[A\n",
            "Test on increasing length of signal:  14%|█▍        | 3/21 [00:01<00:10,  1.75it/s]\u001b[A\n",
            "Test on increasing length of signal:  19%|█▉        | 4/21 [00:02<00:12,  1.32it/s]\u001b[A\n",
            "Test on increasing length of signal:  24%|██▍       | 5/21 [00:03<00:15,  1.05it/s]\u001b[A\n",
            "Test on increasing length of signal:  29%|██▊       | 6/21 [00:05<00:17,  1.14s/it]\u001b[A\n",
            "Test on increasing length of signal:  33%|███▎      | 7/21 [00:07<00:18,  1.35s/it]\u001b[A\n",
            "Test on increasing length of signal:  38%|███▊      | 8/21 [00:09<00:20,  1.58s/it]\u001b[A\n",
            "Test on increasing length of signal:  43%|████▎     | 9/21 [00:11<00:21,  1.78s/it]\u001b[A\n",
            "Test on increasing length of signal:  48%|████▊     | 10/21 [00:13<00:22,  2.01s/it]\u001b[A\n",
            "Test on increasing length of signal:  52%|█████▏    | 11/21 [00:16<00:22,  2.23s/it]\u001b[A\n",
            "Test on increasing length of signal:  57%|█████▋    | 12/21 [00:19<00:22,  2.45s/it]\u001b[A\n",
            "Test on increasing length of signal:  62%|██████▏   | 13/21 [00:22<00:21,  2.69s/it]\u001b[A\n",
            "Test on increasing length of signal:  67%|██████▋   | 14/21 [00:26<00:20,  2.92s/it]\u001b[A\n",
            "Test on increasing length of signal:  71%|███████▏  | 15/21 [00:30<00:18,  3.16s/it]\u001b[A\n",
            "Test on increasing length of signal:  76%|███████▌  | 16/21 [00:34<00:17,  3.44s/it]\u001b[A\n",
            "Test on increasing length of signal:  81%|████████  | 17/21 [00:38<00:14,  3.66s/it]\u001b[A\n",
            "Test on increasing length of signal:  86%|████████▌ | 18/21 [00:42<00:11,  3.92s/it]\u001b[A\n",
            "Test on increasing length of signal:  90%|█████████ | 19/21 [00:47<00:08,  4.17s/it]\u001b[A\n",
            "Test on increasing length of signal:  95%|█████████▌| 20/21 [00:52<00:04,  4.43s/it]\u001b[A\n",
            "Test on increasing length of signal: 100%|██████████| 21/21 [00:57<00:00,  4.61s/it]\u001b[A\n",
            "Running tests on 6 algorithms:  17%|█▋        | 1/6 [00:57<04:48, 57.72s/it]\n",
            "Test on increasing length of signal:   0%|          | 0/21 [00:00<?, ?it/s]\u001b[A\n",
            "Test on increasing length of signal:   5%|▍         | 1/21 [00:00<00:10,  1.92it/s]\u001b[A\n",
            "Test on increasing length of signal:  10%|▉         | 2/21 [00:01<00:15,  1.22it/s]\u001b[A\n",
            "Test on increasing length of signal:  14%|█▍        | 3/21 [00:03<00:21,  1.17s/it]\u001b[A\n",
            "Test on increasing length of signal:  19%|█▉        | 4/21 [00:05<00:26,  1.54s/it]\u001b[A\n",
            "Test on increasing length of signal:  24%|██▍       | 5/21 [00:07<00:30,  1.93s/it]\u001b[A\n",
            "Test on increasing length of signal:  29%|██▊       | 6/21 [00:10<00:34,  2.32s/it]\u001b[A\n",
            "Test on increasing length of signal:  33%|███▎      | 7/21 [00:14<00:38,  2.74s/it]\u001b[A\n",
            "Test on increasing length of signal:  38%|███▊      | 8/21 [00:18<00:41,  3.17s/it]\u001b[A\n",
            "Test on increasing length of signal:  43%|████▎     | 9/21 [00:23<00:43,  3.64s/it]\u001b[A\n",
            "Test on increasing length of signal:  48%|████▊     | 10/21 [00:28<00:45,  4.16s/it]\u001b[A\n",
            "Test on increasing length of signal:  52%|█████▏    | 11/21 [00:34<00:46,  4.65s/it]\u001b[A\n",
            "Test on increasing length of signal:  57%|█████▋    | 12/21 [00:40<00:46,  5.14s/it]\u001b[A\n",
            "Test on increasing length of signal:  62%|██████▏   | 13/21 [00:47<00:45,  5.65s/it]\u001b[A\n",
            "Test on increasing length of signal:  67%|██████▋   | 14/21 [00:54<00:43,  6.15s/it]\u001b[A\n",
            "Test on increasing length of signal:  71%|███████▏  | 15/21 [01:02<00:39,  6.64s/it]\u001b[A\n",
            "Test on increasing length of signal:  76%|███████▌  | 16/21 [01:10<00:35,  7.16s/it]\u001b[A\n",
            "Test on increasing length of signal:  81%|████████  | 17/21 [01:19<00:30,  7.71s/it]\u001b[A\n",
            "Test on increasing length of signal:  86%|████████▌ | 18/21 [01:29<00:24,  8.23s/it]\u001b[A\n",
            "Test on increasing length of signal:  90%|█████████ | 19/21 [01:39<00:17,  8.76s/it]\u001b[A\n",
            "Test on increasing length of signal:  95%|█████████▌| 20/21 [01:50<00:09,  9.35s/it]\u001b[A\n",
            "Test on increasing length of signal: 100%|██████████| 21/21 [02:00<00:00,  9.80s/it]\u001b[A\n",
            "Running tests on 6 algorithms:  33%|███▎      | 2/6 [02:58<06:19, 94.91s/it]\n",
            "Test on increasing length of signal:   0%|          | 0/21 [00:00<?, ?it/s]\u001b[A\n",
            "Test on increasing length of signal:   5%|▍         | 1/21 [00:03<01:17,  3.87s/it]\u001b[A\n",
            "Test on increasing length of signal:  10%|▉         | 2/21 [00:11<01:56,  6.15s/it]\u001b[A\n",
            "Test on increasing length of signal:  14%|█▍        | 3/21 [00:23<02:34,  8.60s/it]\u001b[A\n",
            "Test on increasing length of signal:  19%|█▉        | 4/21 [00:38<03:10, 11.20s/it]\u001b[A\n",
            "Test on increasing length of signal:  24%|██▍       | 5/21 [00:57<03:47, 14.22s/it]\u001b[A\n",
            "Test on increasing length of signal:  29%|██▊       | 6/21 [01:21<04:19, 17.28s/it]\u001b[A\n",
            "Test on increasing length of signal:  33%|███▎      | 7/21 [01:47<04:45, 20.41s/it]\u001b[A\n",
            "Running tests on 6 algorithms:  33%|███▎      | 2/6 [04:49<09:39, 144.81s/it]\n"
          ]
        },
        {
          "output_type": "error",
          "ename": "KeyboardInterrupt",
          "evalue": "ignored",
          "traceback": [
            "\u001b[0;31m---------------------------------------------------------------------------\u001b[0m",
            "\u001b[0;31mKeyboardInterrupt\u001b[0m                         Traceback (most recent call last)",
            "\u001b[0;32m<ipython-input-8-19c3beeba646>\u001b[0m in \u001b[0;36m<module>\u001b[0;34m\u001b[0m\n\u001b[1;32m     11\u001b[0m     \u001b[0mstart\u001b[0m \u001b[0;34m=\u001b[0m \u001b[0mtime\u001b[0m\u001b[0;34m.\u001b[0m\u001b[0mtime\u001b[0m\u001b[0;34m(\u001b[0m\u001b[0;34m)\u001b[0m\u001b[0;34m\u001b[0m\u001b[0;34m\u001b[0m\u001b[0m\n\u001b[1;32m     12\u001b[0m     \u001b[0;32mfor\u001b[0m \u001b[0mi\u001b[0m\u001b[0;34m,\u001b[0m \u001b[0msig\u001b[0m \u001b[0;32min\u001b[0m \u001b[0menumerate\u001b[0m\u001b[0;34m(\u001b[0m\u001b[0mecg_signals\u001b[0m\u001b[0;34m[\u001b[0m\u001b[0;34m:\u001b[0m\u001b[0;36m17\u001b[0m \u001b[0;34m+\u001b[0m \u001b[0;36m17\u001b[0m\u001b[0;34m*\u001b[0m\u001b[0mind\u001b[0m\u001b[0;34m]\u001b[0m\u001b[0;34m)\u001b[0m\u001b[0;34m:\u001b[0m\u001b[0;34m\u001b[0m\u001b[0;34m\u001b[0m\u001b[0m\n\u001b[0;32m---> 13\u001b[0;31m       \u001b[0mr_peaks\u001b[0m \u001b[0;34m=\u001b[0m \u001b[0malgorithms\u001b[0m\u001b[0;34m[\u001b[0m\u001b[0malg_ind\u001b[0m\u001b[0;34m]\u001b[0m\u001b[0;34m(\u001b[0m\u001b[0msig\u001b[0m\u001b[0;34m)\u001b[0m\u001b[0;34m\u001b[0m\u001b[0;34m\u001b[0m\u001b[0m\n\u001b[0m\u001b[1;32m     14\u001b[0m     \u001b[0mfinish\u001b[0m \u001b[0;34m=\u001b[0m \u001b[0mtime\u001b[0m\u001b[0;34m.\u001b[0m\u001b[0mtime\u001b[0m\u001b[0;34m(\u001b[0m\u001b[0;34m)\u001b[0m \u001b[0;34m-\u001b[0m \u001b[0mstart\u001b[0m\u001b[0;34m\u001b[0m\u001b[0;34m\u001b[0m\u001b[0m\n\u001b[1;32m     15\u001b[0m     \u001b[0mtime_alg\u001b[0m\u001b[0;34m.\u001b[0m\u001b[0mappend\u001b[0m\u001b[0;34m(\u001b[0m\u001b[0mfinish\u001b[0m\u001b[0;34m)\u001b[0m\u001b[0;34m\u001b[0m\u001b[0;34m\u001b[0m\u001b[0m\n",
            "\u001b[0;32m/content/rpeak-detection/RPNet/py_ecg/ecgdetectors.py\u001b[0m in \u001b[0;36mchristov_detector\u001b[0;34m(self, unfiltered_ecg)\u001b[0m\n\u001b[1;32m    212\u001b[0m \u001b[0;34m\u001b[0m\u001b[0m\n\u001b[1;32m    213\u001b[0m             \u001b[0;31m# R\u001b[0m\u001b[0;34m\u001b[0m\u001b[0;34m\u001b[0m\u001b[0;34m\u001b[0m\u001b[0m\n\u001b[0;32m--> 214\u001b[0;31m             \u001b[0;32mif\u001b[0m \u001b[0mQRS\u001b[0m \u001b[0;32mand\u001b[0m \u001b[0mi\u001b[0m \u001b[0;34m<\u001b[0m \u001b[0mQRS\u001b[0m\u001b[0;34m[\u001b[0m\u001b[0;34m-\u001b[0m\u001b[0;36m1\u001b[0m\u001b[0;34m]\u001b[0m\u001b[0;34m+\u001b[0m\u001b[0mint\u001b[0m\u001b[0;34m(\u001b[0m\u001b[0;34m(\u001b[0m\u001b[0;36m2.0\u001b[0m\u001b[0;34m/\u001b[0m\u001b[0;36m3.0\u001b[0m\u001b[0;34m*\u001b[0m\u001b[0mRm\u001b[0m\u001b[0;34m)\u001b[0m\u001b[0;34m)\u001b[0m\u001b[0;34m:\u001b[0m\u001b[0;34m\u001b[0m\u001b[0;34m\u001b[0m\u001b[0m\n\u001b[0m\u001b[1;32m    215\u001b[0m \u001b[0;34m\u001b[0m\u001b[0m\n\u001b[1;32m    216\u001b[0m                 \u001b[0mR\u001b[0m \u001b[0;34m=\u001b[0m \u001b[0;36m0\u001b[0m\u001b[0;34m\u001b[0m\u001b[0;34m\u001b[0m\u001b[0m\n",
            "\u001b[0;31mKeyboardInterrupt\u001b[0m: "
          ]
        }
      ],
      "source": [
        "# SWT, Hamilton, Shristov, Engzee, Pan Tompkins, Two average\n",
        "detectors = Detectors(FS)\n",
        "algorithms = [detectors.swt_detector, detectors.hamilton_detector, detectors.christov_detector, detectors.engzee_detector, detectors.pan_tompkins_detector, detectors.two_average_detector]\n",
        "alg = []\n",
        "time_algms = []\n",
        "for alg_ind in trange(len(algorithms), position=0, \n",
        "                      leave=True, desc=\"Running tests on 6 algorithms\"):\n",
        "  time_alg = []\n",
        "  for ind in trange(21, position=1, leave=False, \n",
        "                    desc=\"Test on increasing length of signal\"):\n",
        "    start = time.time()\n",
        "    for i, sig in enumerate(ecg_signals[:17 + 17*ind]):\n",
        "      r_peaks = algorithms[alg_ind](sig)\n",
        "    finish = time.time() - start\n",
        "    time_alg.append(finish)\n",
        "  time_algms.append(time_alg)"
      ]
    },
    {
      "cell_type": "code",
      "execution_count": null,
      "metadata": {
        "colab": {
          "base_uri": "https://localhost:8080/",
          "height": 400
        },
        "id": "hXvNjJMC2ZJ7",
        "outputId": "67960e78-8412-42df-ab95-3c59ba1afe02"
      },
      "outputs": [
        {
          "data": {
            "text/html": [
              "<div style=\"display:flex;flex-direction:row;\"><span></span><progress style='margin:2px 4px;' max='21' value='21'></progress>100% 21/21 [01:08&lt;00:00,  7.41s/it]</div>"
            ],
            "text/plain": [
              "<tqdm._fake_ipywidgets.HBox object>"
            ]
          },
          "metadata": {},
          "output_type": "display_data"
        },
        {
          "data": {
            "text/plain": [
              "[100.525,\n",
              " 200.95,\n",
              " 301.45,\n",
              " 401.975,\n",
              " 502.55,\n",
              " 603.075,\n",
              " 703.6,\n",
              " 804.05,\n",
              " 904.6,\n",
              " 1005.1,\n",
              " 1105.625,\n",
              " 1206.075,\n",
              " 1306.625,\n",
              " 1407.125,\n",
              " 1507.6,\n",
              " 1608.2,\n",
              " 1708.725,\n",
              " 1809.325,\n",
              " 1909.825,\n",
              " 2010.275,\n",
              " 2045.8]"
            ]
          },
          "execution_count": 39,
          "metadata": {},
          "output_type": "execute_result"
        }
      ],
      "source": [
        "num_examples_alg = [len(sum(list(ecg_signals[:17 + 17*i]), [])) / 2000 for i in trange(21)]"
      ]
    },
    {
      "cell_type": "code",
      "execution_count": null,
      "metadata": {
        "id": "S4m7iVVL2ZJ9"
      },
      "outputs": [],
      "source": [
        "plt.figure(figsize=(12,9))\n",
        "plt.plot(num_examples_alg, time_algms[0], label = \"SWT\", linestyle=\"-\") \n",
        "plt.plot(num_examples_alg, time_algms[1], label = \"Hamilton\", linestyle=\"-\") \n",
        "plt.plot(num_examples_alg, time_algms[2], label = \"Christov\", linestyle=\"-\") \n",
        "plt.plot(num_examples_alg, time_algms[3], label = \"Engzee\", linestyle=\"-\") \n",
        "plt.plot(num_examples_alg, time_algms[4], label = \"Pan Tompkins\", linestyle=\"-\") \n",
        "plt.plot(num_examples_alg, time_algms[5], label = \"Two Average\", linestyle=\"-\") \n",
        "plt.plot(samples_rpnet, time_rpnet, label = \"RPNet\", linestyle=\":\")\n",
        "if dev == \"cpu\":\n",
        "  plt.title(\"CPU\")\n",
        "else: plt.title(\"Tesla K80 GPU, 2496 CUDA cores\")\n",
        "plt\n",
        "plt.xlim([75, 1750])\n",
        "plt.legend() \n",
        "plt.show()"
      ]
    },
    {
      "cell_type": "markdown",
      "metadata": {
        "id": "Rp8ziY-SDmrY"
      },
      "source": [
        "# Accuracy calculation"
      ]
    },
    {
      "cell_type": "code",
      "execution_count": null,
      "metadata": {
        "id": "0HFVcdAS2ZKJ"
      },
      "outputs": [],
      "source": [
        "beats_ = [np.asarray(i) for i in beats]"
      ]
    },
    {
      "cell_type": "code",
      "execution_count": null,
      "metadata": {
        "id": "vGxwW7YS2ZKJ"
      },
      "outputs": [],
      "source": [
        "FS = 200\n",
        "THR = 0.075\n",
        "detectors = Detectors(FS)\n",
        "swt = [np.asarray(detectors.swt_detector(i)) for i in ecg_signals]\n",
        "hamil = [np.asarray(detectors.hamilton_detector(i)) for i in ecg_signals]\n",
        "christov = [np.asarray(detectors.christov_detector(i)) for i in ecg_signals]\n",
        "engzee = [np.asarray(detectors.engzee_detector(i)) for i in ecg_signals]\n",
        "pnt = [np.asarray(detectors.pan_tompkins_detector(i)) for i in ecg_signals]\n",
        "two_avg = [np.asarray(detectors.two_average_detector(i)) for i in ecg_signals]\n",
        "\n",
        "print(\"SWT fuzzy \", score(beats_, swt, FS, THR))\n",
        "print(\"Hamil fuzzy \", score(beats_, hamil, FS, THR))\n",
        "print(\"Christov fuzzy \", score(beats_, christov, FS, THR))\n",
        "print(\"engzee fuzzy \", score(beats_, engzee, FS, THR))\n",
        "print(\"pan tompkins fuzzy \", score(beats_, pnt, FS, THR))\n",
        "print(\"Two avg fuzzy \", score(beats_, two_avg, FS, THR))"
      ]
    }
  ],
  "metadata": {
    "accelerator": "GPU",
    "colab": {
      "provenance": [],
      "include_colab_link": true
    },
    "kernelspec": {
      "display_name": "Python 3.10.4 ('rpeak-detection')",
      "language": "python",
      "name": "python3"
    },
    "language_info": {
      "codemirror_mode": {
        "name": "ipython",
        "version": 3
      },
      "file_extension": ".py",
      "mimetype": "text/x-python",
      "name": "python",
      "nbconvert_exporter": "python",
      "pygments_lexer": "ipython3",
      "version": "3.10.4"
    },
    "orig_nbformat": 4,
    "vscode": {
      "interpreter": {
        "hash": "d7f4bf17355f725d8df928dffe57d76e0a23501358e27379583c8aa35b272990"
      }
    },
    "widgets": {
      "application/vnd.jupyter.widget-state+json": {
        "84d42ac274e84a4bb5ecba9219d26582": {
          "model_module": "@jupyter-widgets/controls",
          "model_name": "HBoxModel",
          "model_module_version": "1.5.0",
          "state": {
            "_dom_classes": [],
            "_model_module": "@jupyter-widgets/controls",
            "_model_module_version": "1.5.0",
            "_model_name": "HBoxModel",
            "_view_count": null,
            "_view_module": "@jupyter-widgets/controls",
            "_view_module_version": "1.5.0",
            "_view_name": "HBoxView",
            "box_style": "",
            "children": [
              "IPY_MODEL_f4bc828e02fe48b68ddd7f3c593f5ce3",
              "IPY_MODEL_c75f4855b89a42969983825ed18b424a",
              "IPY_MODEL_f57d992909364f329829b92b20d5c9f1"
            ],
            "layout": "IPY_MODEL_d895478edaf048e29b809d193865d156"
          }
        },
        "f4bc828e02fe48b68ddd7f3c593f5ce3": {
          "model_module": "@jupyter-widgets/controls",
          "model_name": "HTMLModel",
          "model_module_version": "1.5.0",
          "state": {
            "_dom_classes": [],
            "_model_module": "@jupyter-widgets/controls",
            "_model_module_version": "1.5.0",
            "_model_name": "HTMLModel",
            "_view_count": null,
            "_view_module": "@jupyter-widgets/controls",
            "_view_module_version": "1.5.0",
            "_view_name": "HTMLView",
            "description": "",
            "description_tooltip": null,
            "layout": "IPY_MODEL_1d3e8cf05b834c33864a9cda3cd88975",
            "placeholder": "​",
            "style": "IPY_MODEL_607b559394b64423b0a10fd64b4e6ebf",
            "value": " 67%"
          }
        },
        "c75f4855b89a42969983825ed18b424a": {
          "model_module": "@jupyter-widgets/controls",
          "model_name": "FloatProgressModel",
          "model_module_version": "1.5.0",
          "state": {
            "_dom_classes": [],
            "_model_module": "@jupyter-widgets/controls",
            "_model_module_version": "1.5.0",
            "_model_name": "FloatProgressModel",
            "_view_count": null,
            "_view_module": "@jupyter-widgets/controls",
            "_view_module_version": "1.5.0",
            "_view_name": "ProgressView",
            "bar_style": "danger",
            "description": "",
            "description_tooltip": null,
            "layout": "IPY_MODEL_824dfc2ba496499eb22c4183870a64c1",
            "max": 3,
            "min": 0,
            "orientation": "horizontal",
            "style": "IPY_MODEL_baae5ad9a66f4e8fa16706737ce442b1",
            "value": 2
          }
        },
        "f57d992909364f329829b92b20d5c9f1": {
          "model_module": "@jupyter-widgets/controls",
          "model_name": "HTMLModel",
          "model_module_version": "1.5.0",
          "state": {
            "_dom_classes": [],
            "_model_module": "@jupyter-widgets/controls",
            "_model_module_version": "1.5.0",
            "_model_name": "HTMLModel",
            "_view_count": null,
            "_view_module": "@jupyter-widgets/controls",
            "_view_module_version": "1.5.0",
            "_view_name": "HTMLView",
            "description": "",
            "description_tooltip": null,
            "layout": "IPY_MODEL_f59b34e495fa41bb8a9eb4306b6c251b",
            "placeholder": "​",
            "style": "IPY_MODEL_552370cffd8d4e4dbc710f276f1b7ea0",
            "value": " 2/3 [00:14&lt;00:05,  5.08s/it]"
          }
        },
        "d895478edaf048e29b809d193865d156": {
          "model_module": "@jupyter-widgets/base",
          "model_name": "LayoutModel",
          "model_module_version": "1.2.0",
          "state": {
            "_model_module": "@jupyter-widgets/base",
            "_model_module_version": "1.2.0",
            "_model_name": "LayoutModel",
            "_view_count": null,
            "_view_module": "@jupyter-widgets/base",
            "_view_module_version": "1.2.0",
            "_view_name": "LayoutView",
            "align_content": null,
            "align_items": null,
            "align_self": null,
            "border": null,
            "bottom": null,
            "display": null,
            "flex": null,
            "flex_flow": null,
            "grid_area": null,
            "grid_auto_columns": null,
            "grid_auto_flow": null,
            "grid_auto_rows": null,
            "grid_column": null,
            "grid_gap": null,
            "grid_row": null,
            "grid_template_areas": null,
            "grid_template_columns": null,
            "grid_template_rows": null,
            "height": null,
            "justify_content": null,
            "justify_items": null,
            "left": null,
            "margin": null,
            "max_height": null,
            "max_width": null,
            "min_height": null,
            "min_width": null,
            "object_fit": null,
            "object_position": null,
            "order": null,
            "overflow": null,
            "overflow_x": null,
            "overflow_y": null,
            "padding": null,
            "right": null,
            "top": null,
            "visibility": null,
            "width": null
          }
        },
        "1d3e8cf05b834c33864a9cda3cd88975": {
          "model_module": "@jupyter-widgets/base",
          "model_name": "LayoutModel",
          "model_module_version": "1.2.0",
          "state": {
            "_model_module": "@jupyter-widgets/base",
            "_model_module_version": "1.2.0",
            "_model_name": "LayoutModel",
            "_view_count": null,
            "_view_module": "@jupyter-widgets/base",
            "_view_module_version": "1.2.0",
            "_view_name": "LayoutView",
            "align_content": null,
            "align_items": null,
            "align_self": null,
            "border": null,
            "bottom": null,
            "display": null,
            "flex": null,
            "flex_flow": null,
            "grid_area": null,
            "grid_auto_columns": null,
            "grid_auto_flow": null,
            "grid_auto_rows": null,
            "grid_column": null,
            "grid_gap": null,
            "grid_row": null,
            "grid_template_areas": null,
            "grid_template_columns": null,
            "grid_template_rows": null,
            "height": null,
            "justify_content": null,
            "justify_items": null,
            "left": null,
            "margin": null,
            "max_height": null,
            "max_width": null,
            "min_height": null,
            "min_width": null,
            "object_fit": null,
            "object_position": null,
            "order": null,
            "overflow": null,
            "overflow_x": null,
            "overflow_y": null,
            "padding": null,
            "right": null,
            "top": null,
            "visibility": null,
            "width": null
          }
        },
        "607b559394b64423b0a10fd64b4e6ebf": {
          "model_module": "@jupyter-widgets/controls",
          "model_name": "DescriptionStyleModel",
          "model_module_version": "1.5.0",
          "state": {
            "_model_module": "@jupyter-widgets/controls",
            "_model_module_version": "1.5.0",
            "_model_name": "DescriptionStyleModel",
            "_view_count": null,
            "_view_module": "@jupyter-widgets/base",
            "_view_module_version": "1.2.0",
            "_view_name": "StyleView",
            "description_width": ""
          }
        },
        "824dfc2ba496499eb22c4183870a64c1": {
          "model_module": "@jupyter-widgets/base",
          "model_name": "LayoutModel",
          "model_module_version": "1.2.0",
          "state": {
            "_model_module": "@jupyter-widgets/base",
            "_model_module_version": "1.2.0",
            "_model_name": "LayoutModel",
            "_view_count": null,
            "_view_module": "@jupyter-widgets/base",
            "_view_module_version": "1.2.0",
            "_view_name": "LayoutView",
            "align_content": null,
            "align_items": null,
            "align_self": null,
            "border": null,
            "bottom": null,
            "display": null,
            "flex": null,
            "flex_flow": null,
            "grid_area": null,
            "grid_auto_columns": null,
            "grid_auto_flow": null,
            "grid_auto_rows": null,
            "grid_column": null,
            "grid_gap": null,
            "grid_row": null,
            "grid_template_areas": null,
            "grid_template_columns": null,
            "grid_template_rows": null,
            "height": null,
            "justify_content": null,
            "justify_items": null,
            "left": null,
            "margin": null,
            "max_height": null,
            "max_width": null,
            "min_height": null,
            "min_width": null,
            "object_fit": null,
            "object_position": null,
            "order": null,
            "overflow": null,
            "overflow_x": null,
            "overflow_y": null,
            "padding": null,
            "right": null,
            "top": null,
            "visibility": null,
            "width": null
          }
        },
        "baae5ad9a66f4e8fa16706737ce442b1": {
          "model_module": "@jupyter-widgets/controls",
          "model_name": "ProgressStyleModel",
          "model_module_version": "1.5.0",
          "state": {
            "_model_module": "@jupyter-widgets/controls",
            "_model_module_version": "1.5.0",
            "_model_name": "ProgressStyleModel",
            "_view_count": null,
            "_view_module": "@jupyter-widgets/base",
            "_view_module_version": "1.2.0",
            "_view_name": "StyleView",
            "bar_color": null,
            "description_width": ""
          }
        },
        "f59b34e495fa41bb8a9eb4306b6c251b": {
          "model_module": "@jupyter-widgets/base",
          "model_name": "LayoutModel",
          "model_module_version": "1.2.0",
          "state": {
            "_model_module": "@jupyter-widgets/base",
            "_model_module_version": "1.2.0",
            "_model_name": "LayoutModel",
            "_view_count": null,
            "_view_module": "@jupyter-widgets/base",
            "_view_module_version": "1.2.0",
            "_view_name": "LayoutView",
            "align_content": null,
            "align_items": null,
            "align_self": null,
            "border": null,
            "bottom": null,
            "display": null,
            "flex": null,
            "flex_flow": null,
            "grid_area": null,
            "grid_auto_columns": null,
            "grid_auto_flow": null,
            "grid_auto_rows": null,
            "grid_column": null,
            "grid_gap": null,
            "grid_row": null,
            "grid_template_areas": null,
            "grid_template_columns": null,
            "grid_template_rows": null,
            "height": null,
            "justify_content": null,
            "justify_items": null,
            "left": null,
            "margin": null,
            "max_height": null,
            "max_width": null,
            "min_height": null,
            "min_width": null,
            "object_fit": null,
            "object_position": null,
            "order": null,
            "overflow": null,
            "overflow_x": null,
            "overflow_y": null,
            "padding": null,
            "right": null,
            "top": null,
            "visibility": null,
            "width": null
          }
        },
        "552370cffd8d4e4dbc710f276f1b7ea0": {
          "model_module": "@jupyter-widgets/controls",
          "model_name": "DescriptionStyleModel",
          "model_module_version": "1.5.0",
          "state": {
            "_model_module": "@jupyter-widgets/controls",
            "_model_module_version": "1.5.0",
            "_model_name": "DescriptionStyleModel",
            "_view_count": null,
            "_view_module": "@jupyter-widgets/base",
            "_view_module_version": "1.2.0",
            "_view_name": "StyleView",
            "description_width": ""
          }
        },
        "d0d937a55c75499ba6bd966832e2ffcd": {
          "model_module": "@jupyter-widgets/controls",
          "model_name": "HBoxModel",
          "model_module_version": "1.5.0",
          "state": {
            "_dom_classes": [],
            "_model_module": "@jupyter-widgets/controls",
            "_model_module_version": "1.5.0",
            "_model_name": "HBoxModel",
            "_view_count": null,
            "_view_module": "@jupyter-widgets/controls",
            "_view_module_version": "1.5.0",
            "_view_name": "HBoxView",
            "box_style": "",
            "children": [
              "IPY_MODEL_62c44f32f607479dabc89f2524c1ab5c",
              "IPY_MODEL_c5ce2e0f77674e97b3848e10a37b299d",
              "IPY_MODEL_22275c773b1f4ce7a55e9632c24f216e"
            ],
            "layout": "IPY_MODEL_2e110af85d1c477cbd794b04c1a8f06f"
          }
        },
        "62c44f32f607479dabc89f2524c1ab5c": {
          "model_module": "@jupyter-widgets/controls",
          "model_name": "HTMLModel",
          "model_module_version": "1.5.0",
          "state": {
            "_dom_classes": [],
            "_model_module": "@jupyter-widgets/controls",
            "_model_module_version": "1.5.0",
            "_model_name": "HTMLModel",
            "_view_count": null,
            "_view_module": "@jupyter-widgets/controls",
            "_view_module_version": "1.5.0",
            "_view_name": "HTMLView",
            "description": "",
            "description_tooltip": null,
            "layout": "IPY_MODEL_5d9a8650b274461b8210ce803816a5ad",
            "placeholder": "​",
            "style": "IPY_MODEL_513d8915336e4cbc8ee16a1acc218224",
            "value": "100%"
          }
        },
        "c5ce2e0f77674e97b3848e10a37b299d": {
          "model_module": "@jupyter-widgets/controls",
          "model_name": "FloatProgressModel",
          "model_module_version": "1.5.0",
          "state": {
            "_dom_classes": [],
            "_model_module": "@jupyter-widgets/controls",
            "_model_module_version": "1.5.0",
            "_model_name": "FloatProgressModel",
            "_view_count": null,
            "_view_module": "@jupyter-widgets/controls",
            "_view_module_version": "1.5.0",
            "_view_name": "ProgressView",
            "bar_style": "",
            "description": "",
            "description_tooltip": null,
            "layout": "IPY_MODEL_4305ff30a3a5427f932eb79d57c6829c",
            "max": 5,
            "min": 0,
            "orientation": "horizontal",
            "style": "IPY_MODEL_770b2baa70c3446eb346a109369eccae",
            "value": 5
          }
        },
        "22275c773b1f4ce7a55e9632c24f216e": {
          "model_module": "@jupyter-widgets/controls",
          "model_name": "HTMLModel",
          "model_module_version": "1.5.0",
          "state": {
            "_dom_classes": [],
            "_model_module": "@jupyter-widgets/controls",
            "_model_module_version": "1.5.0",
            "_model_name": "HTMLModel",
            "_view_count": null,
            "_view_module": "@jupyter-widgets/controls",
            "_view_module_version": "1.5.0",
            "_view_name": "HTMLView",
            "description": "",
            "description_tooltip": null,
            "layout": "IPY_MODEL_ed5e49895a9b41448e5a08c7b529a1b8",
            "placeholder": "​",
            "style": "IPY_MODEL_d520c5aaab394d7ea2c20161d4c340dd",
            "value": " 5/5 [00:05&lt;00:00,  1.01s/it]"
          }
        },
        "2e110af85d1c477cbd794b04c1a8f06f": {
          "model_module": "@jupyter-widgets/base",
          "model_name": "LayoutModel",
          "model_module_version": "1.2.0",
          "state": {
            "_model_module": "@jupyter-widgets/base",
            "_model_module_version": "1.2.0",
            "_model_name": "LayoutModel",
            "_view_count": null,
            "_view_module": "@jupyter-widgets/base",
            "_view_module_version": "1.2.0",
            "_view_name": "LayoutView",
            "align_content": null,
            "align_items": null,
            "align_self": null,
            "border": null,
            "bottom": null,
            "display": null,
            "flex": null,
            "flex_flow": null,
            "grid_area": null,
            "grid_auto_columns": null,
            "grid_auto_flow": null,
            "grid_auto_rows": null,
            "grid_column": null,
            "grid_gap": null,
            "grid_row": null,
            "grid_template_areas": null,
            "grid_template_columns": null,
            "grid_template_rows": null,
            "height": null,
            "justify_content": null,
            "justify_items": null,
            "left": null,
            "margin": null,
            "max_height": null,
            "max_width": null,
            "min_height": null,
            "min_width": null,
            "object_fit": null,
            "object_position": null,
            "order": null,
            "overflow": null,
            "overflow_x": null,
            "overflow_y": null,
            "padding": null,
            "right": null,
            "top": null,
            "visibility": "hidden",
            "width": null
          }
        },
        "5d9a8650b274461b8210ce803816a5ad": {
          "model_module": "@jupyter-widgets/base",
          "model_name": "LayoutModel",
          "model_module_version": "1.2.0",
          "state": {
            "_model_module": "@jupyter-widgets/base",
            "_model_module_version": "1.2.0",
            "_model_name": "LayoutModel",
            "_view_count": null,
            "_view_module": "@jupyter-widgets/base",
            "_view_module_version": "1.2.0",
            "_view_name": "LayoutView",
            "align_content": null,
            "align_items": null,
            "align_self": null,
            "border": null,
            "bottom": null,
            "display": null,
            "flex": null,
            "flex_flow": null,
            "grid_area": null,
            "grid_auto_columns": null,
            "grid_auto_flow": null,
            "grid_auto_rows": null,
            "grid_column": null,
            "grid_gap": null,
            "grid_row": null,
            "grid_template_areas": null,
            "grid_template_columns": null,
            "grid_template_rows": null,
            "height": null,
            "justify_content": null,
            "justify_items": null,
            "left": null,
            "margin": null,
            "max_height": null,
            "max_width": null,
            "min_height": null,
            "min_width": null,
            "object_fit": null,
            "object_position": null,
            "order": null,
            "overflow": null,
            "overflow_x": null,
            "overflow_y": null,
            "padding": null,
            "right": null,
            "top": null,
            "visibility": null,
            "width": null
          }
        },
        "513d8915336e4cbc8ee16a1acc218224": {
          "model_module": "@jupyter-widgets/controls",
          "model_name": "DescriptionStyleModel",
          "model_module_version": "1.5.0",
          "state": {
            "_model_module": "@jupyter-widgets/controls",
            "_model_module_version": "1.5.0",
            "_model_name": "DescriptionStyleModel",
            "_view_count": null,
            "_view_module": "@jupyter-widgets/base",
            "_view_module_version": "1.2.0",
            "_view_name": "StyleView",
            "description_width": ""
          }
        },
        "4305ff30a3a5427f932eb79d57c6829c": {
          "model_module": "@jupyter-widgets/base",
          "model_name": "LayoutModel",
          "model_module_version": "1.2.0",
          "state": {
            "_model_module": "@jupyter-widgets/base",
            "_model_module_version": "1.2.0",
            "_model_name": "LayoutModel",
            "_view_count": null,
            "_view_module": "@jupyter-widgets/base",
            "_view_module_version": "1.2.0",
            "_view_name": "LayoutView",
            "align_content": null,
            "align_items": null,
            "align_self": null,
            "border": null,
            "bottom": null,
            "display": null,
            "flex": null,
            "flex_flow": null,
            "grid_area": null,
            "grid_auto_columns": null,
            "grid_auto_flow": null,
            "grid_auto_rows": null,
            "grid_column": null,
            "grid_gap": null,
            "grid_row": null,
            "grid_template_areas": null,
            "grid_template_columns": null,
            "grid_template_rows": null,
            "height": null,
            "justify_content": null,
            "justify_items": null,
            "left": null,
            "margin": null,
            "max_height": null,
            "max_width": null,
            "min_height": null,
            "min_width": null,
            "object_fit": null,
            "object_position": null,
            "order": null,
            "overflow": null,
            "overflow_x": null,
            "overflow_y": null,
            "padding": null,
            "right": null,
            "top": null,
            "visibility": null,
            "width": null
          }
        },
        "770b2baa70c3446eb346a109369eccae": {
          "model_module": "@jupyter-widgets/controls",
          "model_name": "ProgressStyleModel",
          "model_module_version": "1.5.0",
          "state": {
            "_model_module": "@jupyter-widgets/controls",
            "_model_module_version": "1.5.0",
            "_model_name": "ProgressStyleModel",
            "_view_count": null,
            "_view_module": "@jupyter-widgets/base",
            "_view_module_version": "1.2.0",
            "_view_name": "StyleView",
            "bar_color": null,
            "description_width": ""
          }
        },
        "ed5e49895a9b41448e5a08c7b529a1b8": {
          "model_module": "@jupyter-widgets/base",
          "model_name": "LayoutModel",
          "model_module_version": "1.2.0",
          "state": {
            "_model_module": "@jupyter-widgets/base",
            "_model_module_version": "1.2.0",
            "_model_name": "LayoutModel",
            "_view_count": null,
            "_view_module": "@jupyter-widgets/base",
            "_view_module_version": "1.2.0",
            "_view_name": "LayoutView",
            "align_content": null,
            "align_items": null,
            "align_self": null,
            "border": null,
            "bottom": null,
            "display": null,
            "flex": null,
            "flex_flow": null,
            "grid_area": null,
            "grid_auto_columns": null,
            "grid_auto_flow": null,
            "grid_auto_rows": null,
            "grid_column": null,
            "grid_gap": null,
            "grid_row": null,
            "grid_template_areas": null,
            "grid_template_columns": null,
            "grid_template_rows": null,
            "height": null,
            "justify_content": null,
            "justify_items": null,
            "left": null,
            "margin": null,
            "max_height": null,
            "max_width": null,
            "min_height": null,
            "min_width": null,
            "object_fit": null,
            "object_position": null,
            "order": null,
            "overflow": null,
            "overflow_x": null,
            "overflow_y": null,
            "padding": null,
            "right": null,
            "top": null,
            "visibility": null,
            "width": null
          }
        },
        "d520c5aaab394d7ea2c20161d4c340dd": {
          "model_module": "@jupyter-widgets/controls",
          "model_name": "DescriptionStyleModel",
          "model_module_version": "1.5.0",
          "state": {
            "_model_module": "@jupyter-widgets/controls",
            "_model_module_version": "1.5.0",
            "_model_name": "DescriptionStyleModel",
            "_view_count": null,
            "_view_module": "@jupyter-widgets/base",
            "_view_module_version": "1.2.0",
            "_view_name": "StyleView",
            "description_width": ""
          }
        },
        "19266482d9bb4267a32e137da19a9b4c": {
          "model_module": "@jupyter-widgets/controls",
          "model_name": "HBoxModel",
          "model_module_version": "1.5.0",
          "state": {
            "_dom_classes": [],
            "_model_module": "@jupyter-widgets/controls",
            "_model_module_version": "1.5.0",
            "_model_name": "HBoxModel",
            "_view_count": null,
            "_view_module": "@jupyter-widgets/controls",
            "_view_module_version": "1.5.0",
            "_view_name": "HBoxView",
            "box_style": "",
            "children": [
              "IPY_MODEL_d8dda2d48ce04d3eb15304fe69a7b17d",
              "IPY_MODEL_c758dd9af5b1478ab2b7f81fd6525d54",
              "IPY_MODEL_369292bdbfdf40709ed6f8f034b87f33"
            ],
            "layout": "IPY_MODEL_584fca3f67f8498d94de4e9229c1ad92"
          }
        },
        "d8dda2d48ce04d3eb15304fe69a7b17d": {
          "model_module": "@jupyter-widgets/controls",
          "model_name": "HTMLModel",
          "model_module_version": "1.5.0",
          "state": {
            "_dom_classes": [],
            "_model_module": "@jupyter-widgets/controls",
            "_model_module_version": "1.5.0",
            "_model_name": "HTMLModel",
            "_view_count": null,
            "_view_module": "@jupyter-widgets/controls",
            "_view_module_version": "1.5.0",
            "_view_name": "HTMLView",
            "description": "",
            "description_tooltip": null,
            "layout": "IPY_MODEL_0776e88cdbe34449a5909cae6f47ed56",
            "placeholder": "​",
            "style": "IPY_MODEL_37d5fdcdcb854b6690ffa9b6388176f4",
            "value": "100%"
          }
        },
        "c758dd9af5b1478ab2b7f81fd6525d54": {
          "model_module": "@jupyter-widgets/controls",
          "model_name": "FloatProgressModel",
          "model_module_version": "1.5.0",
          "state": {
            "_dom_classes": [],
            "_model_module": "@jupyter-widgets/controls",
            "_model_module_version": "1.5.0",
            "_model_name": "FloatProgressModel",
            "_view_count": null,
            "_view_module": "@jupyter-widgets/controls",
            "_view_module_version": "1.5.0",
            "_view_name": "ProgressView",
            "bar_style": "",
            "description": "",
            "description_tooltip": null,
            "layout": "IPY_MODEL_2d18bed7327b488eb56a5a4d97123f3a",
            "max": 5,
            "min": 0,
            "orientation": "horizontal",
            "style": "IPY_MODEL_674c253e9814447b9a84b0159434f3d0",
            "value": 5
          }
        },
        "369292bdbfdf40709ed6f8f034b87f33": {
          "model_module": "@jupyter-widgets/controls",
          "model_name": "HTMLModel",
          "model_module_version": "1.5.0",
          "state": {
            "_dom_classes": [],
            "_model_module": "@jupyter-widgets/controls",
            "_model_module_version": "1.5.0",
            "_model_name": "HTMLModel",
            "_view_count": null,
            "_view_module": "@jupyter-widgets/controls",
            "_view_module_version": "1.5.0",
            "_view_name": "HTMLView",
            "description": "",
            "description_tooltip": null,
            "layout": "IPY_MODEL_c8939833be474e7c8c019592e77c0cbb",
            "placeholder": "​",
            "style": "IPY_MODEL_9e954d9d4df6490989a76ac204d5198e",
            "value": " 5/5 [00:05&lt;00:00,  1.01s/it]"
          }
        },
        "584fca3f67f8498d94de4e9229c1ad92": {
          "model_module": "@jupyter-widgets/base",
          "model_name": "LayoutModel",
          "model_module_version": "1.2.0",
          "state": {
            "_model_module": "@jupyter-widgets/base",
            "_model_module_version": "1.2.0",
            "_model_name": "LayoutModel",
            "_view_count": null,
            "_view_module": "@jupyter-widgets/base",
            "_view_module_version": "1.2.0",
            "_view_name": "LayoutView",
            "align_content": null,
            "align_items": null,
            "align_self": null,
            "border": null,
            "bottom": null,
            "display": null,
            "flex": null,
            "flex_flow": null,
            "grid_area": null,
            "grid_auto_columns": null,
            "grid_auto_flow": null,
            "grid_auto_rows": null,
            "grid_column": null,
            "grid_gap": null,
            "grid_row": null,
            "grid_template_areas": null,
            "grid_template_columns": null,
            "grid_template_rows": null,
            "height": null,
            "justify_content": null,
            "justify_items": null,
            "left": null,
            "margin": null,
            "max_height": null,
            "max_width": null,
            "min_height": null,
            "min_width": null,
            "object_fit": null,
            "object_position": null,
            "order": null,
            "overflow": null,
            "overflow_x": null,
            "overflow_y": null,
            "padding": null,
            "right": null,
            "top": null,
            "visibility": "hidden",
            "width": null
          }
        },
        "0776e88cdbe34449a5909cae6f47ed56": {
          "model_module": "@jupyter-widgets/base",
          "model_name": "LayoutModel",
          "model_module_version": "1.2.0",
          "state": {
            "_model_module": "@jupyter-widgets/base",
            "_model_module_version": "1.2.0",
            "_model_name": "LayoutModel",
            "_view_count": null,
            "_view_module": "@jupyter-widgets/base",
            "_view_module_version": "1.2.0",
            "_view_name": "LayoutView",
            "align_content": null,
            "align_items": null,
            "align_self": null,
            "border": null,
            "bottom": null,
            "display": null,
            "flex": null,
            "flex_flow": null,
            "grid_area": null,
            "grid_auto_columns": null,
            "grid_auto_flow": null,
            "grid_auto_rows": null,
            "grid_column": null,
            "grid_gap": null,
            "grid_row": null,
            "grid_template_areas": null,
            "grid_template_columns": null,
            "grid_template_rows": null,
            "height": null,
            "justify_content": null,
            "justify_items": null,
            "left": null,
            "margin": null,
            "max_height": null,
            "max_width": null,
            "min_height": null,
            "min_width": null,
            "object_fit": null,
            "object_position": null,
            "order": null,
            "overflow": null,
            "overflow_x": null,
            "overflow_y": null,
            "padding": null,
            "right": null,
            "top": null,
            "visibility": null,
            "width": null
          }
        },
        "37d5fdcdcb854b6690ffa9b6388176f4": {
          "model_module": "@jupyter-widgets/controls",
          "model_name": "DescriptionStyleModel",
          "model_module_version": "1.5.0",
          "state": {
            "_model_module": "@jupyter-widgets/controls",
            "_model_module_version": "1.5.0",
            "_model_name": "DescriptionStyleModel",
            "_view_count": null,
            "_view_module": "@jupyter-widgets/base",
            "_view_module_version": "1.2.0",
            "_view_name": "StyleView",
            "description_width": ""
          }
        },
        "2d18bed7327b488eb56a5a4d97123f3a": {
          "model_module": "@jupyter-widgets/base",
          "model_name": "LayoutModel",
          "model_module_version": "1.2.0",
          "state": {
            "_model_module": "@jupyter-widgets/base",
            "_model_module_version": "1.2.0",
            "_model_name": "LayoutModel",
            "_view_count": null,
            "_view_module": "@jupyter-widgets/base",
            "_view_module_version": "1.2.0",
            "_view_name": "LayoutView",
            "align_content": null,
            "align_items": null,
            "align_self": null,
            "border": null,
            "bottom": null,
            "display": null,
            "flex": null,
            "flex_flow": null,
            "grid_area": null,
            "grid_auto_columns": null,
            "grid_auto_flow": null,
            "grid_auto_rows": null,
            "grid_column": null,
            "grid_gap": null,
            "grid_row": null,
            "grid_template_areas": null,
            "grid_template_columns": null,
            "grid_template_rows": null,
            "height": null,
            "justify_content": null,
            "justify_items": null,
            "left": null,
            "margin": null,
            "max_height": null,
            "max_width": null,
            "min_height": null,
            "min_width": null,
            "object_fit": null,
            "object_position": null,
            "order": null,
            "overflow": null,
            "overflow_x": null,
            "overflow_y": null,
            "padding": null,
            "right": null,
            "top": null,
            "visibility": null,
            "width": null
          }
        },
        "674c253e9814447b9a84b0159434f3d0": {
          "model_module": "@jupyter-widgets/controls",
          "model_name": "ProgressStyleModel",
          "model_module_version": "1.5.0",
          "state": {
            "_model_module": "@jupyter-widgets/controls",
            "_model_module_version": "1.5.0",
            "_model_name": "ProgressStyleModel",
            "_view_count": null,
            "_view_module": "@jupyter-widgets/base",
            "_view_module_version": "1.2.0",
            "_view_name": "StyleView",
            "bar_color": null,
            "description_width": ""
          }
        },
        "c8939833be474e7c8c019592e77c0cbb": {
          "model_module": "@jupyter-widgets/base",
          "model_name": "LayoutModel",
          "model_module_version": "1.2.0",
          "state": {
            "_model_module": "@jupyter-widgets/base",
            "_model_module_version": "1.2.0",
            "_model_name": "LayoutModel",
            "_view_count": null,
            "_view_module": "@jupyter-widgets/base",
            "_view_module_version": "1.2.0",
            "_view_name": "LayoutView",
            "align_content": null,
            "align_items": null,
            "align_self": null,
            "border": null,
            "bottom": null,
            "display": null,
            "flex": null,
            "flex_flow": null,
            "grid_area": null,
            "grid_auto_columns": null,
            "grid_auto_flow": null,
            "grid_auto_rows": null,
            "grid_column": null,
            "grid_gap": null,
            "grid_row": null,
            "grid_template_areas": null,
            "grid_template_columns": null,
            "grid_template_rows": null,
            "height": null,
            "justify_content": null,
            "justify_items": null,
            "left": null,
            "margin": null,
            "max_height": null,
            "max_width": null,
            "min_height": null,
            "min_width": null,
            "object_fit": null,
            "object_position": null,
            "order": null,
            "overflow": null,
            "overflow_x": null,
            "overflow_y": null,
            "padding": null,
            "right": null,
            "top": null,
            "visibility": null,
            "width": null
          }
        },
        "9e954d9d4df6490989a76ac204d5198e": {
          "model_module": "@jupyter-widgets/controls",
          "model_name": "DescriptionStyleModel",
          "model_module_version": "1.5.0",
          "state": {
            "_model_module": "@jupyter-widgets/controls",
            "_model_module_version": "1.5.0",
            "_model_name": "DescriptionStyleModel",
            "_view_count": null,
            "_view_module": "@jupyter-widgets/base",
            "_view_module_version": "1.2.0",
            "_view_name": "StyleView",
            "description_width": ""
          }
        },
        "31e0591ac6c7434fa9f40427d854c845": {
          "model_module": "@jupyter-widgets/controls",
          "model_name": "HBoxModel",
          "model_module_version": "1.5.0",
          "state": {
            "_dom_classes": [],
            "_model_module": "@jupyter-widgets/controls",
            "_model_module_version": "1.5.0",
            "_model_name": "HBoxModel",
            "_view_count": null,
            "_view_module": "@jupyter-widgets/controls",
            "_view_module_version": "1.5.0",
            "_view_name": "HBoxView",
            "box_style": "",
            "children": [
              "IPY_MODEL_8663ccbee3114e14b032a24b2ce40916",
              "IPY_MODEL_365c915d9980434186accca47ff5b76b",
              "IPY_MODEL_48655738ea344cd4aa65580e2a6e026b"
            ],
            "layout": "IPY_MODEL_d4db52b4898548159eaafce1999b468a"
          }
        },
        "8663ccbee3114e14b032a24b2ce40916": {
          "model_module": "@jupyter-widgets/controls",
          "model_name": "HTMLModel",
          "model_module_version": "1.5.0",
          "state": {
            "_dom_classes": [],
            "_model_module": "@jupyter-widgets/controls",
            "_model_module_version": "1.5.0",
            "_model_name": "HTMLModel",
            "_view_count": null,
            "_view_module": "@jupyter-widgets/controls",
            "_view_module_version": "1.5.0",
            "_view_name": "HTMLView",
            "description": "",
            "description_tooltip": null,
            "layout": "IPY_MODEL_0c4b79de1d75422c8b042ae05eeb5a70",
            "placeholder": "​",
            "style": "IPY_MODEL_0ba3adecee984578bdba90d6bb6e924c",
            "value": " 80%"
          }
        },
        "365c915d9980434186accca47ff5b76b": {
          "model_module": "@jupyter-widgets/controls",
          "model_name": "FloatProgressModel",
          "model_module_version": "1.5.0",
          "state": {
            "_dom_classes": [],
            "_model_module": "@jupyter-widgets/controls",
            "_model_module_version": "1.5.0",
            "_model_name": "FloatProgressModel",
            "_view_count": null,
            "_view_module": "@jupyter-widgets/controls",
            "_view_module_version": "1.5.0",
            "_view_name": "ProgressView",
            "bar_style": "danger",
            "description": "",
            "description_tooltip": null,
            "layout": "IPY_MODEL_d8d60b9877744910af25d0da1c41a59d",
            "max": 5,
            "min": 0,
            "orientation": "horizontal",
            "style": "IPY_MODEL_35dbe7d482de4b9dbe232d346dd2a527",
            "value": 4
          }
        },
        "48655738ea344cd4aa65580e2a6e026b": {
          "model_module": "@jupyter-widgets/controls",
          "model_name": "HTMLModel",
          "model_module_version": "1.5.0",
          "state": {
            "_dom_classes": [],
            "_model_module": "@jupyter-widgets/controls",
            "_model_module_version": "1.5.0",
            "_model_name": "HTMLModel",
            "_view_count": null,
            "_view_module": "@jupyter-widgets/controls",
            "_view_module_version": "1.5.0",
            "_view_name": "HTMLView",
            "description": "",
            "description_tooltip": null,
            "layout": "IPY_MODEL_a08b1142c225473d92175403e4e8a43a",
            "placeholder": "​",
            "style": "IPY_MODEL_e2ce1826cdd94c0b9b335fd04325489a",
            "value": " 4/5 [00:04&lt;00:01,  1.01s/it]"
          }
        },
        "d4db52b4898548159eaafce1999b468a": {
          "model_module": "@jupyter-widgets/base",
          "model_name": "LayoutModel",
          "model_module_version": "1.2.0",
          "state": {
            "_model_module": "@jupyter-widgets/base",
            "_model_module_version": "1.2.0",
            "_model_name": "LayoutModel",
            "_view_count": null,
            "_view_module": "@jupyter-widgets/base",
            "_view_module_version": "1.2.0",
            "_view_name": "LayoutView",
            "align_content": null,
            "align_items": null,
            "align_self": null,
            "border": null,
            "bottom": null,
            "display": null,
            "flex": null,
            "flex_flow": null,
            "grid_area": null,
            "grid_auto_columns": null,
            "grid_auto_flow": null,
            "grid_auto_rows": null,
            "grid_column": null,
            "grid_gap": null,
            "grid_row": null,
            "grid_template_areas": null,
            "grid_template_columns": null,
            "grid_template_rows": null,
            "height": null,
            "justify_content": null,
            "justify_items": null,
            "left": null,
            "margin": null,
            "max_height": null,
            "max_width": null,
            "min_height": null,
            "min_width": null,
            "object_fit": null,
            "object_position": null,
            "order": null,
            "overflow": null,
            "overflow_x": null,
            "overflow_y": null,
            "padding": null,
            "right": null,
            "top": null,
            "visibility": null,
            "width": null
          }
        },
        "0c4b79de1d75422c8b042ae05eeb5a70": {
          "model_module": "@jupyter-widgets/base",
          "model_name": "LayoutModel",
          "model_module_version": "1.2.0",
          "state": {
            "_model_module": "@jupyter-widgets/base",
            "_model_module_version": "1.2.0",
            "_model_name": "LayoutModel",
            "_view_count": null,
            "_view_module": "@jupyter-widgets/base",
            "_view_module_version": "1.2.0",
            "_view_name": "LayoutView",
            "align_content": null,
            "align_items": null,
            "align_self": null,
            "border": null,
            "bottom": null,
            "display": null,
            "flex": null,
            "flex_flow": null,
            "grid_area": null,
            "grid_auto_columns": null,
            "grid_auto_flow": null,
            "grid_auto_rows": null,
            "grid_column": null,
            "grid_gap": null,
            "grid_row": null,
            "grid_template_areas": null,
            "grid_template_columns": null,
            "grid_template_rows": null,
            "height": null,
            "justify_content": null,
            "justify_items": null,
            "left": null,
            "margin": null,
            "max_height": null,
            "max_width": null,
            "min_height": null,
            "min_width": null,
            "object_fit": null,
            "object_position": null,
            "order": null,
            "overflow": null,
            "overflow_x": null,
            "overflow_y": null,
            "padding": null,
            "right": null,
            "top": null,
            "visibility": null,
            "width": null
          }
        },
        "0ba3adecee984578bdba90d6bb6e924c": {
          "model_module": "@jupyter-widgets/controls",
          "model_name": "DescriptionStyleModel",
          "model_module_version": "1.5.0",
          "state": {
            "_model_module": "@jupyter-widgets/controls",
            "_model_module_version": "1.5.0",
            "_model_name": "DescriptionStyleModel",
            "_view_count": null,
            "_view_module": "@jupyter-widgets/base",
            "_view_module_version": "1.2.0",
            "_view_name": "StyleView",
            "description_width": ""
          }
        },
        "d8d60b9877744910af25d0da1c41a59d": {
          "model_module": "@jupyter-widgets/base",
          "model_name": "LayoutModel",
          "model_module_version": "1.2.0",
          "state": {
            "_model_module": "@jupyter-widgets/base",
            "_model_module_version": "1.2.0",
            "_model_name": "LayoutModel",
            "_view_count": null,
            "_view_module": "@jupyter-widgets/base",
            "_view_module_version": "1.2.0",
            "_view_name": "LayoutView",
            "align_content": null,
            "align_items": null,
            "align_self": null,
            "border": null,
            "bottom": null,
            "display": null,
            "flex": null,
            "flex_flow": null,
            "grid_area": null,
            "grid_auto_columns": null,
            "grid_auto_flow": null,
            "grid_auto_rows": null,
            "grid_column": null,
            "grid_gap": null,
            "grid_row": null,
            "grid_template_areas": null,
            "grid_template_columns": null,
            "grid_template_rows": null,
            "height": null,
            "justify_content": null,
            "justify_items": null,
            "left": null,
            "margin": null,
            "max_height": null,
            "max_width": null,
            "min_height": null,
            "min_width": null,
            "object_fit": null,
            "object_position": null,
            "order": null,
            "overflow": null,
            "overflow_x": null,
            "overflow_y": null,
            "padding": null,
            "right": null,
            "top": null,
            "visibility": null,
            "width": null
          }
        },
        "35dbe7d482de4b9dbe232d346dd2a527": {
          "model_module": "@jupyter-widgets/controls",
          "model_name": "ProgressStyleModel",
          "model_module_version": "1.5.0",
          "state": {
            "_model_module": "@jupyter-widgets/controls",
            "_model_module_version": "1.5.0",
            "_model_name": "ProgressStyleModel",
            "_view_count": null,
            "_view_module": "@jupyter-widgets/base",
            "_view_module_version": "1.2.0",
            "_view_name": "StyleView",
            "bar_color": null,
            "description_width": ""
          }
        },
        "a08b1142c225473d92175403e4e8a43a": {
          "model_module": "@jupyter-widgets/base",
          "model_name": "LayoutModel",
          "model_module_version": "1.2.0",
          "state": {
            "_model_module": "@jupyter-widgets/base",
            "_model_module_version": "1.2.0",
            "_model_name": "LayoutModel",
            "_view_count": null,
            "_view_module": "@jupyter-widgets/base",
            "_view_module_version": "1.2.0",
            "_view_name": "LayoutView",
            "align_content": null,
            "align_items": null,
            "align_self": null,
            "border": null,
            "bottom": null,
            "display": null,
            "flex": null,
            "flex_flow": null,
            "grid_area": null,
            "grid_auto_columns": null,
            "grid_auto_flow": null,
            "grid_auto_rows": null,
            "grid_column": null,
            "grid_gap": null,
            "grid_row": null,
            "grid_template_areas": null,
            "grid_template_columns": null,
            "grid_template_rows": null,
            "height": null,
            "justify_content": null,
            "justify_items": null,
            "left": null,
            "margin": null,
            "max_height": null,
            "max_width": null,
            "min_height": null,
            "min_width": null,
            "object_fit": null,
            "object_position": null,
            "order": null,
            "overflow": null,
            "overflow_x": null,
            "overflow_y": null,
            "padding": null,
            "right": null,
            "top": null,
            "visibility": null,
            "width": null
          }
        },
        "e2ce1826cdd94c0b9b335fd04325489a": {
          "model_module": "@jupyter-widgets/controls",
          "model_name": "DescriptionStyleModel",
          "model_module_version": "1.5.0",
          "state": {
            "_model_module": "@jupyter-widgets/controls",
            "_model_module_version": "1.5.0",
            "_model_name": "DescriptionStyleModel",
            "_view_count": null,
            "_view_module": "@jupyter-widgets/base",
            "_view_module_version": "1.2.0",
            "_view_name": "StyleView",
            "description_width": ""
          }
        }
      }
    }
  },
  "nbformat": 4,
  "nbformat_minor": 0
}